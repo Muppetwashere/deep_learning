{
 "cells": [
  {
   "cell_type": "markdown",
   "metadata": {
    "collapsed": true,
    "pycharm": {
     "name": "#%% md\n"
    }
   },
   "source": [
    "# Data Processing\n",
    "\n",
    "The data processing is split in two parts. Firstly Input processing, secondly output processing.\n",
    "\n",
    "Input processing consists mostly in:\n",
    "1. Selecting the most interesting columns"
   ]
  },
  {
   "cell_type": "markdown",
   "metadata": {
    "pycharm": {
     "name": "#%% md\n"
    }
   },
   "source": [
    "## Loading the input data and creating Checkboxes\n",
    "\n",
    "We will be using a checkbox system to simplify the selection system. The following cells load the complete data, \n",
    "create the list of columns and all the checkboxes.\n",
    "\n",
    "Firstly, as usual, we change our working directory to go to the root of the project. The working diretory should be \n",
    "something like 'xxx\\Roll Wear Project'"
   ]
  },
  {
   "cell_type": "code",
   "execution_count": 1,
   "metadata": {
    "pycharm": {
     "name": "#%%\n"
    }
   },
   "outputs": [],
   "source": [
    "from utils_notebooks import move_current_path_up\n",
    "move_current_path_up(n_times=2)"
   ]
  },
  {
   "cell_type": "markdown",
   "metadata": {
    "pycharm": {
     "name": "#%% md\n"
    }
   },
   "source": [
    "We load the complete data"
   ]
  },
  {
   "cell_type": "code",
   "execution_count": 2,
   "metadata": {
    "pycharm": {
     "is_executing": false,
     "name": "#%%\n"
    }
   },
   "outputs": [],
   "source": [
    "import pandas as pd\n",
    "\n",
    "input_df = pd.read_hdf('Data/notebooks_data/wear_center.h5', key='inputs')\n",
    "columns_names = input_df.columns"
   ]
  },
  {
   "cell_type": "markdown",
   "metadata": {
    "pycharm": {
     "name": "#%% md\n"
    }
   },
   "source": [
    "We create the list of checkboxes from the list of columns"
   ]
  },
  {
   "cell_type": "code",
   "execution_count": 3,
   "metadata": {
    "pycharm": {
     "is_executing": false,
     "name": "#%% \n"
    }
   },
   "outputs": [],
   "source": [
    "import IPython.display\n",
    "import ipywidgets as widgets\n",
    "\n",
    "checkbox_list = []\n",
    "\n",
    "supplier_list, family_list, lineup_list = [], [], []\n",
    "supplier_description, family_description, lineup_description = 'Roll Supplier', 'Strip Families', 'Line Up'\n",
    "\n",
    "# For each column of the DataFrame, we create a single checkbox.\n",
    "# Except for suppliers, families and lineups which have a single checkbox per category\n",
    "for col_name in columns_names:\n",
    "    if 'supplier' in col_name:\n",
    "        supplier_list.append(col_name)\n",
    "    elif 'family' in col_name:\n",
    "        family_list.append(col_name)\n",
    "    elif 'lineup' in col_name:\n",
    "        lineup_list.append(col_name)\n",
    "    else:\n",
    "        checkbox_list.append(widgets.Checkbox(description=col_name))\n",
    "    \n",
    "checkbox_list.append(widgets.Checkbox(description=supplier_description))\n",
    "checkbox_list.append(widgets.Checkbox(description=family_description))\n",
    "checkbox_list.append(widgets.Checkbox(description=lineup_description))\n",
    "\n",
    "# We add all the checkbox into one grid container\n",
    "column_selection_gridbox = widgets.GridBox(checkbox_list, layout=widgets.Layout(grid_template_columns=\"repeat(3, 300px)\"))\n",
    "\n",
    "# We create the button and output \n",
    "button = widgets.Button(description='validate selection and process Inputs')\n",
    "out = widgets.Output()\n",
    "\n",
    "# We put all those elements in one final container\n",
    "final_container = widgets.VBox([column_selection_gridbox, button, out])"
   ]
  },
  {
   "cell_type": "markdown",
   "metadata": {
    "pycharm": {
     "name": "#%% md\n"
    }
   },
   "source": [
    "## Creating the selection function and interactive button\n",
    "\n",
    "We create the selection function, which looks to which checkboxes are selected or not and returns a dataset with only \n",
    "the corresponding columns. "
   ]
  },
  {
   "cell_type": "code",
   "execution_count": 4,
   "metadata": {
    "pycharm": {
     "name": "#%%\n"
    }
   },
   "outputs": [],
   "source": [
    "def columns_selection():\n",
    "    \"\"\" This function gets the selected columns in the checkboxes and returns the new DataFrame with selected columns \n",
    "    \n",
    "    :return: DataFrame with only selected columns\n",
    "    \"\"\"\n",
    "    new_columns = []\n",
    "    # We go through all our checkbox and check is they are checked\n",
    "    for box in checkbox_list:\n",
    "        if box.value:\n",
    "            # If the CheckBox is selected we add the corresponding column name to the new list\n",
    "            name = box.description\n",
    "            # If the name correspond to one of the conglomerate list, we add this list\n",
    "            if name == supplier_description:\n",
    "                new_columns.extend(supplier_list)\n",
    "            elif name == family_description:\n",
    "                new_columns.extend(family_list)\n",
    "            elif name == lineup_description:\n",
    "                new_columns.extend(lineup_list)\n",
    "            # Otherwise, we add the checkbox name\n",
    "            else:\n",
    "                new_columns.append(name)\n",
    "                \n",
    "    return input_df[new_columns]"
   ]
  },
  {
   "cell_type": "markdown",
   "metadata": {
    "pycharm": {
     "name": "#%% md\n"
    }
   },
   "source": [
    "Finally, we create the function which will be called when clicking on the button, and link it with the previously \n",
    "created button."
   ]
  },
  {
   "cell_type": "code",
   "execution_count": 5,
   "metadata": {
    "pycharm": {
     "name": "#%%\n"
    }
   },
   "outputs": [],
   "source": [
    "def on_button_clicked(_):\n",
    "      # \"linking function with output\"\n",
    "      with out:\n",
    "          IPython.display.clear_output()\n",
    "\n",
    "          selected_input_df: pd.DataFrame = columns_selection()\n",
    "          if len(selected_input_df.columns) != 0: \n",
    "              selected_input_df.to_hdf('Data/notebooks_data/wear_center_preprocessed.h5', key='inputs')\n",
    "          \n",
    "              print('Columns_selected and saved in file.\\nSelected columns are : [%r]' \n",
    "                    % ', '.join(selected_input_df.columns))\n",
    "          else:\n",
    "              print('No columns were selected, nothing has been done')\n",
    "          \n",
    "# linking button and function together using a button's method\n",
    "button.on_click(on_button_clicked)"
   ]
  },
  {
   "cell_type": "markdown",
   "metadata": {
    "pycharm": {
     "name": "#%% md\n"
    }
   },
   "source": [
    "## The columns selection GUI (Graphical User Interface)\n",
    "\n",
    "And eventually, we plot the GUI, which can be used to make the columns selection."
   ]
  },
  {
   "cell_type": "code",
   "execution_count": 6,
   "metadata": {
    "pycharm": {
     "name": "#%%\n"
    }
   },
   "outputs": [
    {
     "data": {
      "application/vnd.jupyter.widget-view+json": {
       "model_id": "9a2885bb13a34c4ab7538a5019ac470e",
       "version_major": 2,
       "version_minor": 0
      },
      "text/plain": [
       "VBox(children=(GridBox(children=(Checkbox(value=False, description='STRIP CODE'), Checkbox(value=False, descri…"
      ]
     },
     "metadata": {},
     "output_type": "display_data"
    }
   ],
   "source": [
    "final_container"
   ]
  }
 ],
 "metadata": {
  "kernelspec": {
   "display_name": "Python 3",
   "language": "python",
   "name": "python3"
  },
  "language_info": {
   "codemirror_mode": {
    "name": "ipython",
    "version": 3
   },
   "file_extension": ".py",
   "mimetype": "text/x-python",
   "name": "python",
   "nbconvert_exporter": "python",
   "pygments_lexer": "ipython3",
   "version": "3.7.3"
  },
  "pycharm": {
   "stem_cell": {
    "cell_type": "raw",
    "source": [],
    "metadata": {
     "collapsed": false
    }
   }
  }
 },
 "nbformat": 4,
 "nbformat_minor": 1
}