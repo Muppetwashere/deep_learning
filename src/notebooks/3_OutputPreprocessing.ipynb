{
 "cells": [
  {
   "cell_type": "markdown",
   "metadata": {
    "collapsed": true,
    "pycharm": {
     "name": "#%% md\n"
    }
   },
   "source": [
    "# Data Processing\n",
    "\n",
    "The data processing is split in two parts. Firstly Input processing, secondly output processing.\n",
    "\n",
    "Output processing consists mostly in:\n",
    "1. Removing campaigns with missing values (NaN in the DataFrame)\n",
    "2. Removing outliers values, such as negatives or almost-zeros (while non-null campaign) values"
   ]
  },
  {
   "cell_type": "markdown",
   "metadata": {},
   "source": [
    "## Loading the output data\n",
    "\n",
    "Firstly, as usual, we change our working directory to go to the root of the project. The working diretory should be \n",
    "something like 'xxx\\Roll Wear Project'"
   ]
  },
  {
   "cell_type": "code",
   "execution_count": 1,
   "metadata": {
    "pycharm": {
     "is_executing": false,
     "name": "#%%\n"
    }
   },
   "outputs": [
    {
     "name": "stdout",
     "output_type": "stream",
     "text": [
      "Working directory = P:\\My Documents\\Projets Programmation\\Roll Wear Project\n"
     ]
    }
   ],
   "source": [
    "from utils_notebooks import move_current_path_up\n",
    "move_current_path_up(n_times=2)"
   ]
  },
  {
   "cell_type": "markdown",
   "metadata": {
    "pycharm": {
     "name": "#%% md\n"
    }
   },
   "source": [
    "We load the complete data"
   ]
  },
  {
   "cell_type": "code",
   "execution_count": 2,
   "metadata": {
    "pycharm": {
     "is_executing": false,
     "name": "#%%\n"
    }
   },
   "outputs": [],
   "source": [
    "import pandas as pd\n",
    "\n",
    "output_df : pd.DataFrame = pd.read_hdf('Data/notebooks_data/wear_center.h5', key='outputs')\n"
   ]
  },
  {
   "cell_type": "markdown",
   "metadata": {
    "pycharm": {
     "name": "#%% md\n"
    }
   },
   "source": [
    "## Removing missing values\n",
    "\n",
    "Firstly, we remove the campaigns containing NaN (Not a Number), which corresponds to missing values"
   ]
  },
  {
   "cell_type": "code",
   "execution_count": 3,
   "metadata": {
    "pycharm": {
     "is_executing": false,
     "name": "#%%\n"
    }
   },
   "outputs": [
    {
     "name": "stdout",
     "output_type": "stream",
     "text": [
      "Removed campaigns:\n",
      "                  f6t       f6b       f7t       f7b\n",
      "id_campaign                                        \n",
      "3                 NaN       NaN       NaN       NaN\n",
      "7                 NaN       NaN       NaN       NaN\n",
      "9            0.187548       NaN       NaN       NaN\n",
      "18           0.245452  0.291968  0.293903       NaN\n",
      "25                NaN       NaN  0.030059  0.062325\n",
      "...               ...       ...       ...       ...\n",
      "365               NaN       NaN       NaN       NaN\n",
      "366               NaN       NaN       NaN       NaN\n",
      "382          0.159548  0.123258       NaN  0.090258\n",
      "383          0.173032  0.162387  0.145194       NaN\n",
      "390          0.102290  0.091710  0.093677       NaN\n",
      "\n",
      "[69 rows x 4 columns]\n"
     ]
    }
   ],
   "source": [
    "print('Removed campaigns:')\n",
    "print(output_df[output_df.isna().any(axis=1)])\n",
    "\n",
    "output_df.dropna(inplace=True)"
   ]
  },
  {
   "cell_type": "markdown",
   "metadata": {
    "pycharm": {
     "name": "#%% md\n"
    }
   },
   "source": [
    "## Removing outliers\n",
    "\n",
    "Next, we remove the campaigns with negative values, and the ones (manually) spotted as too low."
   ]
  },
  {
   "cell_type": "code",
   "execution_count": 4,
   "metadata": {
    "pycharm": {
     "is_executing": false,
     "name": "#%%\n"
    }
   },
   "outputs": [
    {
     "name": "stdout",
     "output_type": "stream",
     "text": [
      "Removed campaigns:\n",
      "Empty DataFrame\n",
      "Columns: [f6t, f6b, f7t, f7b]\n",
      "Index: []\n"
     ]
    }
   ],
   "source": [
    "negative_index = output_df[(output_df < 0).any(axis=1)].index\n",
    "\n",
    "print('Removed campaigns:')\n",
    "print(output_df.loc[negative_index])\n",
    "\n",
    "output_df.drop(negative_index, inplace=True, errors='ignore')"
   ]
  },
  {
   "cell_type": "markdown",
   "metadata": {
    "pycharm": {
     "name": "#%% md\n"
    }
   },
   "source": [
    "The following campaigns have been found to have very low values (too low) and that they should be removed to not perturbate\n",
    "the training. The following cell will show their values, so if one of them seems normal, it could be kept by removing it \n",
    "from this list.\n",
    "\n",
    " If one of the value do not appear in the following cell result, it means that it has already been removed by one of the \n",
    " previous processing. (if None appears, this means they have all been already removed)"
   ]
  },
  {
   "cell_type": "code",
   "execution_count": 5,
   "metadata": {
    "pycharm": {
     "is_executing": false,
     "name": "#%%\n"
    }
   },
   "outputs": [
    {
     "name": "stdout",
     "output_type": "stream",
     "text": [
      "                  f6t       f6b       f7t       f7b\n",
      "id_campaign                                        \n",
      "131          0.020613  0.039839  0.057129  0.057323\n"
     ]
    }
   ],
   "source": [
    "# Original list : [25, 56, 86, 75, 93, 103, 131, 188, 257, 271, 365]\n",
    "null_camp = [25, 56, 86, 75, 93, 103, 131, 188, 257, 271, 365]\n",
    "\n",
    "# Initialising empty dataframe\n",
    "tmp_df = pd.DataFrame(columns=output_df.columns)\n",
    "tmp_df.index.names = output_df.index.names\n",
    "\n",
    "# For all column in null columns, if it exists in output_df, we add it to tmp_df\n",
    "for campaign in null_camp:\n",
    "    try:\n",
    "        tmp_df = tmp_df.append(output_df.loc[campaign])\n",
    "    except KeyError:\n",
    "        pass\n",
    "\n",
    "print(tmp_df)\n",
    "\n",
    "output_df.drop(null_camp, inplace=True, errors='ignore')"
   ]
  },
  {
   "cell_type": "markdown",
   "metadata": {
    "pycharm": {
     "name": "#%% md\n"
    }
   },
   "source": [
    "## Saving the preprocessed outputs"
   ]
  },
  {
   "cell_type": "code",
   "execution_count": 6,
   "metadata": {
    "pycharm": {
     "name": "#%%\n"
    }
   },
   "outputs": [],
   "source": [
    "output_df.to_hdf('Data/notebooks_data/wear_center_preprocessed.h5', key='outputs')\n",
    "\n"
   ]
  },
  {
   "cell_type": "code",
   "execution_count": null,
   "metadata": {},
   "outputs": [],
   "source": []
  }
 ],
 "metadata": {
  "kernelspec": {
   "display_name": "Python 3",
   "language": "python",
   "name": "python3"
  },
  "language_info": {
   "codemirror_mode": {
    "name": "ipython",
    "version": 3
   },
   "file_extension": ".py",
   "mimetype": "text/x-python",
   "name": "python",
   "nbconvert_exporter": "python",
   "pygments_lexer": "ipython3",
   "version": "3.7.3"
  },
  "pycharm": {
   "stem_cell": {
    "cell_type": "raw",
    "source": [],
    "metadata": {
     "collapsed": false
    }
   }
  }
 },
 "nbformat": 4,
 "nbformat_minor": 1
}