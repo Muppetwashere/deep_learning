{
 "cells": [
  {
   "cell_type": "markdown",
   "metadata": {
    "pycharm": {
     "name": "#%% md\n"
    }
   },
   "source": [
    "# Quick training\n",
    "\n",
    "This notebook tries to demonstrate efficiently how to load data and train a network for our data. "
   ]
  },
  {
   "cell_type": "markdown",
   "metadata": {
    "pycharm": {
     "name": "#%% md\n"
    }
   },
   "source": [
    "## Initialisation\n",
    "\n",
    "Firstly, we set our working directory as the root of the Project Folder, in order to have access to all data.\n",
    "\n",
    "<b>The Working directory after the following cell should be something like \"...\\Roll Wear Project\".</b>"
   ]
  },
  {
   "cell_type": "code",
   "execution_count": 1,
   "metadata": {
    "pycharm": {
     "is_executing": false,
     "name": "#%%\n"
    }
   },
   "outputs": [
    {
     "name": "stdout",
     "output_type": "stream",
     "text": [
      "Working directory = P:\\My Documents\\Projets Programmation\\Roll Wear Project\n"
     ]
    }
   ],
   "source": [
    "from utils_notebooks import move_current_path_up\n",
    "move_current_path_up(n_times=2)"
   ]
  },
  {
   "cell_type": "markdown",
   "metadata": {
    "pycharm": {
     "name": "#%% md\n"
    }
   },
   "source": [
    "## Loading the inputs\n",
    "\n",
    "We will load inputs and outputs. Inputs are all the strips, identified by an unique identifier and their campaign number.\n",
    "The order of the strips inside a campaign is defined by the order of the unique identifiers."
   ]
  },
  {
   "cell_type": "code",
   "execution_count": 2,
   "metadata": {
    "pycharm": {
     "is_executing": false,
     "name": "#%%\n"
    }
   },
   "outputs": [],
   "source": [
    "import pandas as pd\n",
    "\n",
    "def load_strips(excel_path: str):\n",
    "    \"\"\" Load the data of one excel file of input data\n",
    "    https://datacarpentry.org/python-ecology-lesson/05-merging-data/ \"\"\"\n",
    "\n",
    "    print(\"Loading Input data from excel. About 2mn left\")\n",
    "    # Loading raw strips data\n",
    "    strips_df: pd.DataFrame = pd.read_excel(io=excel_path, sheet_name='Strips_data', usecols='B, F:AP, AS:BN',\n",
    "                                            index_col=[0, 1], header=2,  skiprows=[3])\n",
    "    strips_df.index.names = ['id_campaign', 'id_strip']  # Renaming the indexes\n",
    "\n",
    "    # Data processing.\n",
    "    # 1. We extract the families as one_hot vector\n",
    "    strips_df = pd.get_dummies(strips_df, prefix=['family'], columns=['STIP GRADE FAMILY'])\n",
    "    # 2. Oil flow rate is considered as ON/OFF\n",
    "    strips_df['F6 Oil Flow Rate, ml/min'] = (strips_df['F6 Oil Flow Rate, ml/min'] > 0).astype(int)\n",
    "    strips_df.rename(columns={'F6 Oil Flow Rate, ml/min': 'F6 Oil Flow Rate, on/off'}, inplace=True)\n",
    "\n",
    "    print(\"Loading Input data from excel. About 1mn left\")\n",
    "    # Loading campaigns data\n",
    "    camp_df: pd.DataFrame = pd.read_excel(io=excel_path, sheet_name='Campaign_data', header=1, skiprows=[2], \n",
    "                                          usecols='A, C:E, J:M, N:Q, R:U', index_col=0)\n",
    "    camp_df.index.names = ['id_campaign']\n",
    "\n",
    "    # We transform the line up and supplier columns into one_hot vectors\n",
    "    camp_df = pd.get_dummies(camp_df, prefix=['lineup'], columns=['LINE_UP'])\n",
    "    camp_df = pd.get_dummies(camp_df, prefix=['supplier_f6t', 'supplier_f6b', 'supplier_f7t', 'supplier_f7b'],\n",
    "                             columns=['F6 TOP SUPPLIER', 'F6 BOT SUPPLIER', 'F7 TOP SUPPLIER', 'F7 BOT SUPPLIER'])\n",
    "\n",
    "    return strips_df.join(camp_df, how='inner')"
   ]
  },
  {
   "cell_type": "markdown",
   "metadata": {
    "pycharm": {
     "name": "#%% md\n"
    }
   },
   "source": [
    "We will now load the data from the Excel file, and plot a quick report about them"
   ]
  },
  {
   "cell_type": "code",
   "execution_count": 3,
   "metadata": {
    "pycharm": {
     "is_executing": false,
     "name": "#%%\n"
    }
   },
   "outputs": [
    {
     "name": "stdout",
     "output_type": "stream",
     "text": [
      "Loading Input data from excel. About 2mn left\n",
      "Loading Input data from excel. About 1mn left\n"
     ]
    },
    {
     "data": {
      "text/html": [
       "<div>\n",
       "<style scoped>\n",
       "    .dataframe tbody tr th:only-of-type {\n",
       "        vertical-align: middle;\n",
       "    }\n",
       "\n",
       "    .dataframe tbody tr th {\n",
       "        vertical-align: top;\n",
       "    }\n",
       "\n",
       "    .dataframe thead th {\n",
       "        text-align: right;\n",
       "    }\n",
       "</style>\n",
       "<table border=\"1\" class=\"dataframe\">\n",
       "  <thead>\n",
       "    <tr style=\"text-align: right;\">\n",
       "      <th></th>\n",
       "      <th>STRIP HARDNESS INDICATOR</th>\n",
       "      <th>STRIP WIDTH</th>\n",
       "      <th>STRIP LENGTH F5 EXIT*</th>\n",
       "      <th>STRIP LENGTH F6 EXIT*</th>\n",
       "      <th>STRIP LENGTH F7 EXIT</th>\n",
       "      <th>STAND FORCE / WIDTH F6*</th>\n",
       "      <th>STAND FORCE / WIDTH F7*</th>\n",
       "      <th>BENDING FORCE F6</th>\n",
       "      <th>BENDING FORCE F7</th>\n",
       "      <th>SHIFTINGF6</th>\n",
       "      <th>...</th>\n",
       "      <th>supplier_f7t_Kubota ECC-CX2 Type</th>\n",
       "      <th>supplier_f7t_National ICON</th>\n",
       "      <th>supplier_f7t_Union Electric UK Apex Alloy</th>\n",
       "      <th>supplier_f7t_Villares Vindex VRP0313</th>\n",
       "      <th>supplier_f7b_Akers National Micra X</th>\n",
       "      <th>supplier_f7b_ESW VANIS</th>\n",
       "      <th>supplier_f7b_Kubota ECC-CX2 Type</th>\n",
       "      <th>supplier_f7b_National ICON</th>\n",
       "      <th>supplier_f7b_Union Electric UK Apex Alloy</th>\n",
       "      <th>supplier_f7b_Villares Vindex VRP0313</th>\n",
       "    </tr>\n",
       "  </thead>\n",
       "  <tbody>\n",
       "    <tr>\n",
       "      <th>count</th>\n",
       "      <td>51710.000000</td>\n",
       "      <td>51710.000000</td>\n",
       "      <td>51710.000000</td>\n",
       "      <td>51710.000000</td>\n",
       "      <td>51710.000000</td>\n",
       "      <td>51710.000000</td>\n",
       "      <td>51710.000000</td>\n",
       "      <td>51710.000000</td>\n",
       "      <td>51710.000000</td>\n",
       "      <td>51710.000000</td>\n",
       "      <td>...</td>\n",
       "      <td>51710.000000</td>\n",
       "      <td>51710.000000</td>\n",
       "      <td>51710.000000</td>\n",
       "      <td>51710.000000</td>\n",
       "      <td>51710.000000</td>\n",
       "      <td>51710.000000</td>\n",
       "      <td>51710.000000</td>\n",
       "      <td>51710.000000</td>\n",
       "      <td>51710.000000</td>\n",
       "      <td>51710.000000</td>\n",
       "    </tr>\n",
       "    <tr>\n",
       "      <th>mean</th>\n",
       "      <td>1.258308</td>\n",
       "      <td>1208.921330</td>\n",
       "      <td>413.662288</td>\n",
       "      <td>534.744170</td>\n",
       "      <td>626.509944</td>\n",
       "      <td>1.019051</td>\n",
       "      <td>0.934226</td>\n",
       "      <td>61.529216</td>\n",
       "      <td>53.023186</td>\n",
       "      <td>-0.893406</td>\n",
       "      <td>...</td>\n",
       "      <td>0.440456</td>\n",
       "      <td>0.126378</td>\n",
       "      <td>0.009901</td>\n",
       "      <td>0.417231</td>\n",
       "      <td>0.004699</td>\n",
       "      <td>0.006034</td>\n",
       "      <td>0.516206</td>\n",
       "      <td>0.052253</td>\n",
       "      <td>0.065461</td>\n",
       "      <td>0.355347</td>\n",
       "    </tr>\n",
       "    <tr>\n",
       "      <th>std</th>\n",
       "      <td>0.122990</td>\n",
       "      <td>201.493205</td>\n",
       "      <td>136.987169</td>\n",
       "      <td>189.763687</td>\n",
       "      <td>229.364312</td>\n",
       "      <td>0.148514</td>\n",
       "      <td>0.149128</td>\n",
       "      <td>18.386355</td>\n",
       "      <td>20.096913</td>\n",
       "      <td>26.851735</td>\n",
       "      <td>...</td>\n",
       "      <td>0.496447</td>\n",
       "      <td>0.332278</td>\n",
       "      <td>0.099013</td>\n",
       "      <td>0.493106</td>\n",
       "      <td>0.068391</td>\n",
       "      <td>0.077443</td>\n",
       "      <td>0.499742</td>\n",
       "      <td>0.222539</td>\n",
       "      <td>0.247340</td>\n",
       "      <td>0.478623</td>\n",
       "    </tr>\n",
       "    <tr>\n",
       "      <th>min</th>\n",
       "      <td>1.000000</td>\n",
       "      <td>702.000000</td>\n",
       "      <td>0.000000</td>\n",
       "      <td>0.000000</td>\n",
       "      <td>102.508800</td>\n",
       "      <td>0.572803</td>\n",
       "      <td>0.514810</td>\n",
       "      <td>20.908600</td>\n",
       "      <td>8.625000</td>\n",
       "      <td>-75.000000</td>\n",
       "      <td>...</td>\n",
       "      <td>0.000000</td>\n",
       "      <td>0.000000</td>\n",
       "      <td>0.000000</td>\n",
       "      <td>0.000000</td>\n",
       "      <td>0.000000</td>\n",
       "      <td>0.000000</td>\n",
       "      <td>0.000000</td>\n",
       "      <td>0.000000</td>\n",
       "      <td>0.000000</td>\n",
       "      <td>0.000000</td>\n",
       "    </tr>\n",
       "    <tr>\n",
       "      <th>25%</th>\n",
       "      <td>1.161900</td>\n",
       "      <td>1060.000000</td>\n",
       "      <td>326.816179</td>\n",
       "      <td>413.152315</td>\n",
       "      <td>479.718725</td>\n",
       "      <td>0.919116</td>\n",
       "      <td>0.834361</td>\n",
       "      <td>47.005350</td>\n",
       "      <td>37.750000</td>\n",
       "      <td>-20.000000</td>\n",
       "      <td>...</td>\n",
       "      <td>0.000000</td>\n",
       "      <td>0.000000</td>\n",
       "      <td>0.000000</td>\n",
       "      <td>0.000000</td>\n",
       "      <td>0.000000</td>\n",
       "      <td>0.000000</td>\n",
       "      <td>0.000000</td>\n",
       "      <td>0.000000</td>\n",
       "      <td>0.000000</td>\n",
       "      <td>0.000000</td>\n",
       "    </tr>\n",
       "    <tr>\n",
       "      <th>50%</th>\n",
       "      <td>1.209400</td>\n",
       "      <td>1231.000000</td>\n",
       "      <td>400.431897</td>\n",
       "      <td>517.556895</td>\n",
       "      <td>606.612200</td>\n",
       "      <td>1.005484</td>\n",
       "      <td>0.915359</td>\n",
       "      <td>62.272500</td>\n",
       "      <td>49.040350</td>\n",
       "      <td>0.000000</td>\n",
       "      <td>...</td>\n",
       "      <td>0.000000</td>\n",
       "      <td>0.000000</td>\n",
       "      <td>0.000000</td>\n",
       "      <td>0.000000</td>\n",
       "      <td>0.000000</td>\n",
       "      <td>0.000000</td>\n",
       "      <td>1.000000</td>\n",
       "      <td>0.000000</td>\n",
       "      <td>0.000000</td>\n",
       "      <td>0.000000</td>\n",
       "    </tr>\n",
       "    <tr>\n",
       "      <th>75%</th>\n",
       "      <td>1.403500</td>\n",
       "      <td>1342.000000</td>\n",
       "      <td>482.330176</td>\n",
       "      <td>628.388838</td>\n",
       "      <td>744.567250</td>\n",
       "      <td>1.105910</td>\n",
       "      <td>1.017933</td>\n",
       "      <td>75.245000</td>\n",
       "      <td>65.105525</td>\n",
       "      <td>20.000000</td>\n",
       "      <td>...</td>\n",
       "      <td>1.000000</td>\n",
       "      <td>0.000000</td>\n",
       "      <td>0.000000</td>\n",
       "      <td>1.000000</td>\n",
       "      <td>0.000000</td>\n",
       "      <td>0.000000</td>\n",
       "      <td>1.000000</td>\n",
       "      <td>0.000000</td>\n",
       "      <td>0.000000</td>\n",
       "      <td>1.000000</td>\n",
       "    </tr>\n",
       "    <tr>\n",
       "      <th>max</th>\n",
       "      <td>1.690100</td>\n",
       "      <td>1613.000000</td>\n",
       "      <td>947.526261</td>\n",
       "      <td>1259.695772</td>\n",
       "      <td>1489.722500</td>\n",
       "      <td>1.725392</td>\n",
       "      <td>1.711240</td>\n",
       "      <td>119.665000</td>\n",
       "      <td>121.243600</td>\n",
       "      <td>75.000000</td>\n",
       "      <td>...</td>\n",
       "      <td>1.000000</td>\n",
       "      <td>1.000000</td>\n",
       "      <td>1.000000</td>\n",
       "      <td>1.000000</td>\n",
       "      <td>1.000000</td>\n",
       "      <td>1.000000</td>\n",
       "      <td>1.000000</td>\n",
       "      <td>1.000000</td>\n",
       "      <td>1.000000</td>\n",
       "      <td>1.000000</td>\n",
       "    </tr>\n",
       "  </tbody>\n",
       "</table>\n",
       "<p>8 rows × 106 columns</p>\n",
       "</div>"
      ],
      "text/plain": [
       "       STRIP HARDNESS INDICATOR   STRIP WIDTH  STRIP LENGTH F5 EXIT*  \\\n",
       "count              51710.000000  51710.000000           51710.000000   \n",
       "mean                   1.258308   1208.921330             413.662288   \n",
       "std                    0.122990    201.493205             136.987169   \n",
       "min                    1.000000    702.000000               0.000000   \n",
       "25%                    1.161900   1060.000000             326.816179   \n",
       "50%                    1.209400   1231.000000             400.431897   \n",
       "75%                    1.403500   1342.000000             482.330176   \n",
       "max                    1.690100   1613.000000             947.526261   \n",
       "\n",
       "       STRIP LENGTH F6 EXIT*  STRIP LENGTH F7 EXIT  STAND FORCE / WIDTH F6*  \\\n",
       "count           51710.000000          51710.000000             51710.000000   \n",
       "mean              534.744170            626.509944                 1.019051   \n",
       "std               189.763687            229.364312                 0.148514   \n",
       "min                 0.000000            102.508800                 0.572803   \n",
       "25%               413.152315            479.718725                 0.919116   \n",
       "50%               517.556895            606.612200                 1.005484   \n",
       "75%               628.388838            744.567250                 1.105910   \n",
       "max              1259.695772           1489.722500                 1.725392   \n",
       "\n",
       "       STAND FORCE / WIDTH F7*  BENDING FORCE F6  BENDING FORCE F7  \\\n",
       "count             51710.000000      51710.000000      51710.000000   \n",
       "mean                  0.934226         61.529216         53.023186   \n",
       "std                   0.149128         18.386355         20.096913   \n",
       "min                   0.514810         20.908600          8.625000   \n",
       "25%                   0.834361         47.005350         37.750000   \n",
       "50%                   0.915359         62.272500         49.040350   \n",
       "75%                   1.017933         75.245000         65.105525   \n",
       "max                   1.711240        119.665000        121.243600   \n",
       "\n",
       "         SHIFTINGF6  ...  supplier_f7t_Kubota ECC-CX2 Type  \\\n",
       "count  51710.000000  ...                      51710.000000   \n",
       "mean      -0.893406  ...                          0.440456   \n",
       "std       26.851735  ...                          0.496447   \n",
       "min      -75.000000  ...                          0.000000   \n",
       "25%      -20.000000  ...                          0.000000   \n",
       "50%        0.000000  ...                          0.000000   \n",
       "75%       20.000000  ...                          1.000000   \n",
       "max       75.000000  ...                          1.000000   \n",
       "\n",
       "       supplier_f7t_National ICON  supplier_f7t_Union Electric UK Apex Alloy  \\\n",
       "count                51710.000000                               51710.000000   \n",
       "mean                     0.126378                                   0.009901   \n",
       "std                      0.332278                                   0.099013   \n",
       "min                      0.000000                                   0.000000   \n",
       "25%                      0.000000                                   0.000000   \n",
       "50%                      0.000000                                   0.000000   \n",
       "75%                      0.000000                                   0.000000   \n",
       "max                      1.000000                                   1.000000   \n",
       "\n",
       "       supplier_f7t_Villares Vindex VRP0313  \\\n",
       "count                          51710.000000   \n",
       "mean                               0.417231   \n",
       "std                                0.493106   \n",
       "min                                0.000000   \n",
       "25%                                0.000000   \n",
       "50%                                0.000000   \n",
       "75%                                1.000000   \n",
       "max                                1.000000   \n",
       "\n",
       "       supplier_f7b_Akers National Micra X  supplier_f7b_ESW VANIS  \\\n",
       "count                         51710.000000            51710.000000   \n",
       "mean                              0.004699                0.006034   \n",
       "std                               0.068391                0.077443   \n",
       "min                               0.000000                0.000000   \n",
       "25%                               0.000000                0.000000   \n",
       "50%                               0.000000                0.000000   \n",
       "75%                               0.000000                0.000000   \n",
       "max                               1.000000                1.000000   \n",
       "\n",
       "       supplier_f7b_Kubota ECC-CX2 Type  supplier_f7b_National ICON  \\\n",
       "count                      51710.000000                51710.000000   \n",
       "mean                           0.516206                    0.052253   \n",
       "std                            0.499742                    0.222539   \n",
       "min                            0.000000                    0.000000   \n",
       "25%                            0.000000                    0.000000   \n",
       "50%                            1.000000                    0.000000   \n",
       "75%                            1.000000                    0.000000   \n",
       "max                            1.000000                    1.000000   \n",
       "\n",
       "       supplier_f7b_Union Electric UK Apex Alloy  \\\n",
       "count                               51710.000000   \n",
       "mean                                    0.065461   \n",
       "std                                     0.247340   \n",
       "min                                     0.000000   \n",
       "25%                                     0.000000   \n",
       "50%                                     0.000000   \n",
       "75%                                     0.000000   \n",
       "max                                     1.000000   \n",
       "\n",
       "       supplier_f7b_Villares Vindex VRP0313  \n",
       "count                          51710.000000  \n",
       "mean                               0.355347  \n",
       "std                                0.478623  \n",
       "min                                0.000000  \n",
       "25%                                0.000000  \n",
       "50%                                0.000000  \n",
       "75%                                1.000000  \n",
       "max                                1.000000  \n",
       "\n",
       "[8 rows x 106 columns]"
      ]
     },
     "execution_count": 3,
     "metadata": {},
     "output_type": "execute_result"
    }
   ],
   "source": [
    "input_file_path = 'Data/RawData/WearDataForDatamining.xlsx'\n",
    "input_df = load_strips(input_file_path)\n",
    "\n",
    "input_df.describe()"
   ]
  },
  {
   "cell_type": "markdown",
   "metadata": {
    "pycharm": {
     "name": "#%% md\n"
    }
   },
   "source": [
    "## Loading output data\n",
    "\n",
    "We do the same, for output data, which are, however, easier to load"
   ]
  },
  {
   "cell_type": "code",
   "execution_count": 4,
   "metadata": {
    "pycharm": {
     "is_executing": false,
     "name": "#%%\n"
    }
   },
   "outputs": [],
   "source": [
    "def load_wearcentre(excel_file):\n",
    "    \"\"\" Load the data of one excel file of wear centre data \"\"\"\n",
    "    \n",
    "    print(\"Loading Output data from excel. Takes about 1mn\")\n",
    "\n",
    "    # We read the data from the Excel file\n",
    "    wearcenter_df: pd.DataFrame = pd.read_excel(io=excel_file, sheet_name='Feuil1', usecols=\"A:E\", \n",
    "                                                header=2, skiprows=[3], index_col=0)\n",
    "\n",
    "    # renaming columns\n",
    "    wearcenter_df.rename(inplace=True, columns={'Usure F6 TOP': 'f6t', 'Usure F6 BOT': 'f6b',\n",
    "                                                'Usure F7 TOP': 'f7t', 'Usure F7 BOT': 'f7b'})\n",
    "    wearcenter_df.index.names = ['id_campaign']\n",
    "    \n",
    "    return wearcenter_df"
   ]
  },
  {
   "cell_type": "code",
   "execution_count": 5,
   "metadata": {
    "pycharm": {
     "is_executing": false,
     "name": "#%% \n"
    }
   },
   "outputs": [
    {
     "name": "stdout",
     "output_type": "stream",
     "text": [
      "Loading Output data from excel. Takes about 1mn\n"
     ]
    },
    {
     "data": {
      "text/html": [
       "<div>\n",
       "<style scoped>\n",
       "    .dataframe tbody tr th:only-of-type {\n",
       "        vertical-align: middle;\n",
       "    }\n",
       "\n",
       "    .dataframe tbody tr th {\n",
       "        vertical-align: top;\n",
       "    }\n",
       "\n",
       "    .dataframe thead th {\n",
       "        text-align: right;\n",
       "    }\n",
       "</style>\n",
       "<table border=\"1\" class=\"dataframe\">\n",
       "  <thead>\n",
       "    <tr style=\"text-align: right;\">\n",
       "      <th></th>\n",
       "      <th>f6t</th>\n",
       "      <th>f6b</th>\n",
       "      <th>f7t</th>\n",
       "      <th>f7b</th>\n",
       "    </tr>\n",
       "  </thead>\n",
       "  <tbody>\n",
       "    <tr>\n",
       "      <th>count</th>\n",
       "      <td>348.000000</td>\n",
       "      <td>353.000000</td>\n",
       "      <td>347.000000</td>\n",
       "      <td>346.000000</td>\n",
       "    </tr>\n",
       "    <tr>\n",
       "      <th>mean</th>\n",
       "      <td>0.260685</td>\n",
       "      <td>0.244293</td>\n",
       "      <td>0.193591</td>\n",
       "      <td>0.264225</td>\n",
       "    </tr>\n",
       "    <tr>\n",
       "      <th>std</th>\n",
       "      <td>0.147254</td>\n",
       "      <td>0.118168</td>\n",
       "      <td>0.090392</td>\n",
       "      <td>0.116364</td>\n",
       "    </tr>\n",
       "    <tr>\n",
       "      <th>min</th>\n",
       "      <td>0.020613</td>\n",
       "      <td>-0.043806</td>\n",
       "      <td>0.005613</td>\n",
       "      <td>0.014968</td>\n",
       "    </tr>\n",
       "    <tr>\n",
       "      <th>25%</th>\n",
       "      <td>0.154710</td>\n",
       "      <td>0.149613</td>\n",
       "      <td>0.129790</td>\n",
       "      <td>0.177669</td>\n",
       "    </tr>\n",
       "    <tr>\n",
       "      <th>50%</th>\n",
       "      <td>0.234516</td>\n",
       "      <td>0.235581</td>\n",
       "      <td>0.191226</td>\n",
       "      <td>0.261790</td>\n",
       "    </tr>\n",
       "    <tr>\n",
       "      <th>75%</th>\n",
       "      <td>0.335524</td>\n",
       "      <td>0.315000</td>\n",
       "      <td>0.253823</td>\n",
       "      <td>0.345766</td>\n",
       "    </tr>\n",
       "    <tr>\n",
       "      <th>max</th>\n",
       "      <td>0.763419</td>\n",
       "      <td>0.635581</td>\n",
       "      <td>0.466581</td>\n",
       "      <td>0.657387</td>\n",
       "    </tr>\n",
       "  </tbody>\n",
       "</table>\n",
       "</div>"
      ],
      "text/plain": [
       "              f6t         f6b         f7t         f7b\n",
       "count  348.000000  353.000000  347.000000  346.000000\n",
       "mean     0.260685    0.244293    0.193591    0.264225\n",
       "std      0.147254    0.118168    0.090392    0.116364\n",
       "min      0.020613   -0.043806    0.005613    0.014968\n",
       "25%      0.154710    0.149613    0.129790    0.177669\n",
       "50%      0.234516    0.235581    0.191226    0.261790\n",
       "75%      0.335524    0.315000    0.253823    0.345766\n",
       "max      0.763419    0.635581    0.466581    0.657387"
      ]
     },
     "execution_count": 5,
     "metadata": {},
     "output_type": "execute_result"
    }
   ],
   "source": [
    "output_file_path = 'Data/RawData/WearCentres.xlsx'\n",
    "output_df = load_wearcentre(output_file_path)\n",
    "\n",
    "output_df.describe()"
   ]
  },
  {
   "cell_type": "markdown",
   "metadata": {
    "pycharm": {
     "name": "#%% md\n"
    }
   },
   "source": [
    "## Saving the data\n",
    "\n",
    "We save the data into .h5 files, quicker to load than Excel files for future uses"
   ]
  },
  {
   "cell_type": "code",
   "execution_count": 6,
   "metadata": {
    "pycharm": {
     "is_executing": false,
     "name": "#%%\n"
    }
   },
   "outputs": [],
   "source": [
    "input_df.to_hdf('Data/notebooks_data/wear_center.h5', key='inputs') \n",
    "output_df.to_hdf('Data/notebooks_data/wear_center.h5', key='outputs') "
   ]
  },
  {
   "cell_type": "markdown",
   "metadata": {
    "pycharm": {
     "name": "#%% md\n"
    }
   },
   "source": [
    "Here is defined the function to load the data from the save file"
   ]
  },
  {
   "cell_type": "code",
   "execution_count": 7,
   "metadata": {
    "pycharm": {
     "is_executing": false,
     "name": "#%%\n"
    }
   },
   "outputs": [],
   "source": [
    "def load_hdf(file_path):\n",
    "    input_from_hdf = pd.read_hdf(file_path, key='inputs')\n",
    "    output_from_hdf = pd.read_hdf(file_path, key='outputs')\n",
    "    \n",
    "    return input_from_hdf, output_from_hdf"
   ]
  },
  {
   "cell_type": "markdown",
   "metadata": {
    "pycharm": {
     "name": "#%% md\n"
    }
   },
   "source": [
    "## Full data profiling\n",
    "\n",
    "To be used only in browser view : can't work in IDE"
   ]
  },
  {
   "cell_type": "code",
   "execution_count": 8,
   "metadata": {
    "pycharm": {
     "is_executing": false,
     "name": "#%%\n"
    }
   },
   "outputs": [],
   "source": [
    "# import pandas_profiling\n",
    "# \n",
    "# pandas_profiling.ProfileReport(input_df)\n",
    "# pandas_profiling.ProfileReport(output_df)\n"
   ]
  }
 ],
 "metadata": {
  "kernelspec": {
   "display_name": "Python 3",
   "language": "python",
   "name": "python3"
  },
  "language_info": {
   "codemirror_mode": {
    "name": "ipython",
    "version": 3
   },
   "file_extension": ".py",
   "mimetype": "text/x-python",
   "name": "python",
   "nbconvert_exporter": "python",
   "pygments_lexer": "ipython3",
   "version": "3.7.3"
  },
  "pycharm": {
   "stem_cell": {
    "cell_type": "raw",
    "source": [],
    "metadata": {
     "collapsed": false
    }
   }
  }
 },
 "nbformat": 4,
 "nbformat_minor": 1
}